{
 "cells": [
  {
   "cell_type": "markdown",
   "id": "148c6aa7",
   "metadata": {},
   "source": [
    "# Project Topic: Whether Nearest Earth Objects Will be Hazardous"
   ]
  },
  {
   "cell_type": "markdown",
   "id": "e30547a5",
   "metadata": {},
   "source": [
    "## 1. Define the Project"
   ]
  },
  {
   "cell_type": "markdown",
   "id": "92c75c07",
   "metadata": {},
   "source": [
    "1a. Description of the dataset: This NEO dataset has 90836 instances and 10 different features. This dataset compiles the list of NASA certified asteroids that are classified as the nearest earth object. We are intended to use 2000 instances randomly selected from 90836 instances of the data set to predict if target asteroids are hazardous or not."
   ]
  },
  {
   "cell_type": "markdown",
   "id": "e61afccb",
   "metadata": {},
   "source": [
    "1b. Research Question: Our goal is to use this dataset to predict a particular asteroid that is already classified as Nearest Earth Object(NEO) may or may not be hazardous. We want to learn from the dataset that whether a particular NEO surrounding us can harm the life on Earth and which features of the NEO are playing crucial roles."
   ]
  },
  {
   "cell_type": "markdown",
   "id": "59f9aa13",
   "metadata": {},
   "source": [
    "1c. Learning Model: We used several classification models to predict the given model, separately Logistic Regression, SVM, KNN, Decision Tree, and Random Forest. "
   ]
  },
  {
   "cell_type": "markdown",
   "id": "1833ff5c",
   "metadata": {},
   "source": [
    "1d. 1d. Current Expectation: We are able to construct a relatively concise model to predict whether an identified NEO may or may not be hazardous."
   ]
  },
  {
   "cell_type": "markdown",
   "id": "da47b292",
   "metadata": {},
   "source": [
    "1e. Evaluation: We will generate a report of accuracy score to assess the correctness of different models."
   ]
  },
  {
   "cell_type": "markdown",
   "id": "7a7109e5",
   "metadata": {},
   "source": [
    "## 2. Implementation"
   ]
  },
  {
   "cell_type": "code",
   "execution_count": 2,
   "id": "f5ce8669",
   "metadata": {},
   "outputs": [],
   "source": [
    "import pandas as pd\n",
    "import numpy as np\n",
    "import sklearn\n",
    "import matplotlib.pyplot as plt"
   ]
  },
  {
   "cell_type": "markdown",
   "id": "dbe5883c",
   "metadata": {},
   "source": [
    "### Clean the data"
   ]
  },
  {
   "cell_type": "code",
   "execution_count": 3,
   "id": "45e57088",
   "metadata": {},
   "outputs": [
    {
     "data": {
      "text/html": [
       "<div>\n",
       "<style scoped>\n",
       "    .dataframe tbody tr th:only-of-type {\n",
       "        vertical-align: middle;\n",
       "    }\n",
       "\n",
       "    .dataframe tbody tr th {\n",
       "        vertical-align: top;\n",
       "    }\n",
       "\n",
       "    .dataframe thead th {\n",
       "        text-align: right;\n",
       "    }\n",
       "</style>\n",
       "<table border=\"1\" class=\"dataframe\">\n",
       "  <thead>\n",
       "    <tr style=\"text-align: right;\">\n",
       "      <th></th>\n",
       "      <th>id</th>\n",
       "      <th>name</th>\n",
       "      <th>est_diameter_min</th>\n",
       "      <th>est_diameter_max</th>\n",
       "      <th>relative_velocity</th>\n",
       "      <th>miss_distance</th>\n",
       "      <th>orbiting_body</th>\n",
       "      <th>sentry_object</th>\n",
       "      <th>absolute_magnitude</th>\n",
       "      <th>hazardous</th>\n",
       "    </tr>\n",
       "  </thead>\n",
       "  <tbody>\n",
       "    <tr>\n",
       "      <th>0</th>\n",
       "      <td>2162635</td>\n",
       "      <td>162635 (2000 SS164)</td>\n",
       "      <td>1.198271</td>\n",
       "      <td>2.679415</td>\n",
       "      <td>13569.249224</td>\n",
       "      <td>5.483974e+07</td>\n",
       "      <td>Earth</td>\n",
       "      <td>False</td>\n",
       "      <td>16.73</td>\n",
       "      <td>False</td>\n",
       "    </tr>\n",
       "    <tr>\n",
       "      <th>1</th>\n",
       "      <td>2277475</td>\n",
       "      <td>277475 (2005 WK4)</td>\n",
       "      <td>0.265800</td>\n",
       "      <td>0.594347</td>\n",
       "      <td>73588.726663</td>\n",
       "      <td>6.143813e+07</td>\n",
       "      <td>Earth</td>\n",
       "      <td>False</td>\n",
       "      <td>20.00</td>\n",
       "      <td>True</td>\n",
       "    </tr>\n",
       "    <tr>\n",
       "      <th>2</th>\n",
       "      <td>2512244</td>\n",
       "      <td>512244 (2015 YE18)</td>\n",
       "      <td>0.722030</td>\n",
       "      <td>1.614507</td>\n",
       "      <td>114258.692129</td>\n",
       "      <td>4.979872e+07</td>\n",
       "      <td>Earth</td>\n",
       "      <td>False</td>\n",
       "      <td>17.83</td>\n",
       "      <td>False</td>\n",
       "    </tr>\n",
       "    <tr>\n",
       "      <th>3</th>\n",
       "      <td>3596030</td>\n",
       "      <td>(2012 BV13)</td>\n",
       "      <td>0.096506</td>\n",
       "      <td>0.215794</td>\n",
       "      <td>24764.303138</td>\n",
       "      <td>2.543497e+07</td>\n",
       "      <td>Earth</td>\n",
       "      <td>False</td>\n",
       "      <td>22.20</td>\n",
       "      <td>False</td>\n",
       "    </tr>\n",
       "    <tr>\n",
       "      <th>4</th>\n",
       "      <td>3667127</td>\n",
       "      <td>(2014 GE35)</td>\n",
       "      <td>0.255009</td>\n",
       "      <td>0.570217</td>\n",
       "      <td>42737.733765</td>\n",
       "      <td>4.627557e+07</td>\n",
       "      <td>Earth</td>\n",
       "      <td>False</td>\n",
       "      <td>20.09</td>\n",
       "      <td>True</td>\n",
       "    </tr>\n",
       "    <tr>\n",
       "      <th>...</th>\n",
       "      <td>...</td>\n",
       "      <td>...</td>\n",
       "      <td>...</td>\n",
       "      <td>...</td>\n",
       "      <td>...</td>\n",
       "      <td>...</td>\n",
       "      <td>...</td>\n",
       "      <td>...</td>\n",
       "      <td>...</td>\n",
       "      <td>...</td>\n",
       "    </tr>\n",
       "    <tr>\n",
       "      <th>90831</th>\n",
       "      <td>3763337</td>\n",
       "      <td>(2016 VX1)</td>\n",
       "      <td>0.026580</td>\n",
       "      <td>0.059435</td>\n",
       "      <td>52078.886692</td>\n",
       "      <td>1.230039e+07</td>\n",
       "      <td>Earth</td>\n",
       "      <td>False</td>\n",
       "      <td>25.00</td>\n",
       "      <td>False</td>\n",
       "    </tr>\n",
       "    <tr>\n",
       "      <th>90832</th>\n",
       "      <td>3837603</td>\n",
       "      <td>(2019 AD3)</td>\n",
       "      <td>0.016771</td>\n",
       "      <td>0.037501</td>\n",
       "      <td>46114.605073</td>\n",
       "      <td>5.432121e+07</td>\n",
       "      <td>Earth</td>\n",
       "      <td>False</td>\n",
       "      <td>26.00</td>\n",
       "      <td>False</td>\n",
       "    </tr>\n",
       "    <tr>\n",
       "      <th>90833</th>\n",
       "      <td>54017201</td>\n",
       "      <td>(2020 JP3)</td>\n",
       "      <td>0.031956</td>\n",
       "      <td>0.071456</td>\n",
       "      <td>7566.807732</td>\n",
       "      <td>2.840077e+07</td>\n",
       "      <td>Earth</td>\n",
       "      <td>False</td>\n",
       "      <td>24.60</td>\n",
       "      <td>False</td>\n",
       "    </tr>\n",
       "    <tr>\n",
       "      <th>90834</th>\n",
       "      <td>54115824</td>\n",
       "      <td>(2021 CN5)</td>\n",
       "      <td>0.007321</td>\n",
       "      <td>0.016370</td>\n",
       "      <td>69199.154484</td>\n",
       "      <td>6.869206e+07</td>\n",
       "      <td>Earth</td>\n",
       "      <td>False</td>\n",
       "      <td>27.80</td>\n",
       "      <td>False</td>\n",
       "    </tr>\n",
       "    <tr>\n",
       "      <th>90835</th>\n",
       "      <td>54205447</td>\n",
       "      <td>(2021 TW7)</td>\n",
       "      <td>0.039862</td>\n",
       "      <td>0.089133</td>\n",
       "      <td>27024.455553</td>\n",
       "      <td>5.977213e+07</td>\n",
       "      <td>Earth</td>\n",
       "      <td>False</td>\n",
       "      <td>24.12</td>\n",
       "      <td>False</td>\n",
       "    </tr>\n",
       "  </tbody>\n",
       "</table>\n",
       "<p>90836 rows × 10 columns</p>\n",
       "</div>"
      ],
      "text/plain": [
       "             id                 name  est_diameter_min  est_diameter_max  \\\n",
       "0       2162635  162635 (2000 SS164)          1.198271          2.679415   \n",
       "1       2277475    277475 (2005 WK4)          0.265800          0.594347   \n",
       "2       2512244   512244 (2015 YE18)          0.722030          1.614507   \n",
       "3       3596030          (2012 BV13)          0.096506          0.215794   \n",
       "4       3667127          (2014 GE35)          0.255009          0.570217   \n",
       "...         ...                  ...               ...               ...   \n",
       "90831   3763337           (2016 VX1)          0.026580          0.059435   \n",
       "90832   3837603           (2019 AD3)          0.016771          0.037501   \n",
       "90833  54017201           (2020 JP3)          0.031956          0.071456   \n",
       "90834  54115824           (2021 CN5)          0.007321          0.016370   \n",
       "90835  54205447           (2021 TW7)          0.039862          0.089133   \n",
       "\n",
       "       relative_velocity  miss_distance orbiting_body  sentry_object  \\\n",
       "0           13569.249224   5.483974e+07         Earth          False   \n",
       "1           73588.726663   6.143813e+07         Earth          False   \n",
       "2          114258.692129   4.979872e+07         Earth          False   \n",
       "3           24764.303138   2.543497e+07         Earth          False   \n",
       "4           42737.733765   4.627557e+07         Earth          False   \n",
       "...                  ...            ...           ...            ...   \n",
       "90831       52078.886692   1.230039e+07         Earth          False   \n",
       "90832       46114.605073   5.432121e+07         Earth          False   \n",
       "90833        7566.807732   2.840077e+07         Earth          False   \n",
       "90834       69199.154484   6.869206e+07         Earth          False   \n",
       "90835       27024.455553   5.977213e+07         Earth          False   \n",
       "\n",
       "       absolute_magnitude  hazardous  \n",
       "0                   16.73      False  \n",
       "1                   20.00       True  \n",
       "2                   17.83      False  \n",
       "3                   22.20      False  \n",
       "4                   20.09       True  \n",
       "...                   ...        ...  \n",
       "90831               25.00      False  \n",
       "90832               26.00      False  \n",
       "90833               24.60      False  \n",
       "90834               27.80      False  \n",
       "90835               24.12      False  \n",
       "\n",
       "[90836 rows x 10 columns]"
      ]
     },
     "execution_count": 3,
     "metadata": {},
     "output_type": "execute_result"
    }
   ],
   "source": [
    "df = pd.read_csv(\"neo_v2.csv\")\n",
    "df"
   ]
  },
  {
   "cell_type": "code",
   "execution_count": 4,
   "id": "5cee6268",
   "metadata": {},
   "outputs": [
    {
     "data": {
      "text/html": [
       "<div>\n",
       "<style scoped>\n",
       "    .dataframe tbody tr th:only-of-type {\n",
       "        vertical-align: middle;\n",
       "    }\n",
       "\n",
       "    .dataframe tbody tr th {\n",
       "        vertical-align: top;\n",
       "    }\n",
       "\n",
       "    .dataframe thead th {\n",
       "        text-align: right;\n",
       "    }\n",
       "</style>\n",
       "<table border=\"1\" class=\"dataframe\">\n",
       "  <thead>\n",
       "    <tr style=\"text-align: right;\">\n",
       "      <th></th>\n",
       "      <th>id</th>\n",
       "      <th>name</th>\n",
       "      <th>est_diameter_min</th>\n",
       "      <th>est_diameter_max</th>\n",
       "      <th>relative_velocity</th>\n",
       "      <th>miss_distance</th>\n",
       "      <th>orbiting_body</th>\n",
       "      <th>sentry_object</th>\n",
       "      <th>absolute_magnitude</th>\n",
       "      <th>hazardous</th>\n",
       "      <th>avg_est_diameter</th>\n",
       "    </tr>\n",
       "  </thead>\n",
       "  <tbody>\n",
       "    <tr>\n",
       "      <th>1</th>\n",
       "      <td>3634614</td>\n",
       "      <td>(2013 GT66)</td>\n",
       "      <td>0.024241</td>\n",
       "      <td>0.054205</td>\n",
       "      <td>43303.999094</td>\n",
       "      <td>4.814117e+07</td>\n",
       "      <td>Earth</td>\n",
       "      <td>False</td>\n",
       "      <td>25.20</td>\n",
       "      <td>False</td>\n",
       "      <td>0.039223</td>\n",
       "    </tr>\n",
       "    <tr>\n",
       "      <th>2</th>\n",
       "      <td>3735686</td>\n",
       "      <td>(2015 XP54)</td>\n",
       "      <td>0.042126</td>\n",
       "      <td>0.094198</td>\n",
       "      <td>38507.507463</td>\n",
       "      <td>4.817816e+07</td>\n",
       "      <td>Earth</td>\n",
       "      <td>False</td>\n",
       "      <td>24.00</td>\n",
       "      <td>False</td>\n",
       "      <td>0.068162</td>\n",
       "    </tr>\n",
       "    <tr>\n",
       "      <th>3</th>\n",
       "      <td>3789432</td>\n",
       "      <td>(2017 WE)</td>\n",
       "      <td>0.012149</td>\n",
       "      <td>0.027167</td>\n",
       "      <td>68353.407418</td>\n",
       "      <td>2.339618e+07</td>\n",
       "      <td>Earth</td>\n",
       "      <td>False</td>\n",
       "      <td>26.70</td>\n",
       "      <td>False</td>\n",
       "      <td>0.019658</td>\n",
       "    </tr>\n",
       "    <tr>\n",
       "      <th>4</th>\n",
       "      <td>3705040</td>\n",
       "      <td>(2015 BA93)</td>\n",
       "      <td>0.152952</td>\n",
       "      <td>0.342011</td>\n",
       "      <td>47963.657691</td>\n",
       "      <td>6.245205e+07</td>\n",
       "      <td>Earth</td>\n",
       "      <td>False</td>\n",
       "      <td>21.20</td>\n",
       "      <td>False</td>\n",
       "      <td>0.247481</td>\n",
       "    </tr>\n",
       "    <tr>\n",
       "      <th>5</th>\n",
       "      <td>3719243</td>\n",
       "      <td>(2015 KE)</td>\n",
       "      <td>0.015295</td>\n",
       "      <td>0.034201</td>\n",
       "      <td>32837.830469</td>\n",
       "      <td>3.012441e+07</td>\n",
       "      <td>Earth</td>\n",
       "      <td>False</td>\n",
       "      <td>26.20</td>\n",
       "      <td>False</td>\n",
       "      <td>0.024748</td>\n",
       "    </tr>\n",
       "    <tr>\n",
       "      <th>...</th>\n",
       "      <td>...</td>\n",
       "      <td>...</td>\n",
       "      <td>...</td>\n",
       "      <td>...</td>\n",
       "      <td>...</td>\n",
       "      <td>...</td>\n",
       "      <td>...</td>\n",
       "      <td>...</td>\n",
       "      <td>...</td>\n",
       "      <td>...</td>\n",
       "      <td>...</td>\n",
       "    </tr>\n",
       "    <tr>\n",
       "      <th>1996</th>\n",
       "      <td>3605005</td>\n",
       "      <td>(2012 KE25)</td>\n",
       "      <td>0.461907</td>\n",
       "      <td>1.032856</td>\n",
       "      <td>110957.401365</td>\n",
       "      <td>4.030347e+07</td>\n",
       "      <td>Earth</td>\n",
       "      <td>False</td>\n",
       "      <td>18.80</td>\n",
       "      <td>False</td>\n",
       "      <td>0.747382</td>\n",
       "    </tr>\n",
       "    <tr>\n",
       "      <th>1997</th>\n",
       "      <td>2447755</td>\n",
       "      <td>447755 (2007 JX2)</td>\n",
       "      <td>0.305179</td>\n",
       "      <td>0.682402</td>\n",
       "      <td>36078.517329</td>\n",
       "      <td>2.460992e+07</td>\n",
       "      <td>Earth</td>\n",
       "      <td>False</td>\n",
       "      <td>19.70</td>\n",
       "      <td>True</td>\n",
       "      <td>0.493790</td>\n",
       "    </tr>\n",
       "    <tr>\n",
       "      <th>1998</th>\n",
       "      <td>3555411</td>\n",
       "      <td>(2011 BA)</td>\n",
       "      <td>0.258556</td>\n",
       "      <td>0.578149</td>\n",
       "      <td>65033.351424</td>\n",
       "      <td>2.998363e+07</td>\n",
       "      <td>Earth</td>\n",
       "      <td>False</td>\n",
       "      <td>20.06</td>\n",
       "      <td>False</td>\n",
       "      <td>0.418353</td>\n",
       "    </tr>\n",
       "    <tr>\n",
       "      <th>1999</th>\n",
       "      <td>3743123</td>\n",
       "      <td>(2016 CA138)</td>\n",
       "      <td>0.058419</td>\n",
       "      <td>0.130629</td>\n",
       "      <td>68844.278062</td>\n",
       "      <td>6.096411e+07</td>\n",
       "      <td>Earth</td>\n",
       "      <td>False</td>\n",
       "      <td>23.29</td>\n",
       "      <td>False</td>\n",
       "      <td>0.094524</td>\n",
       "    </tr>\n",
       "    <tr>\n",
       "      <th>2000</th>\n",
       "      <td>54144293</td>\n",
       "      <td>(2021 JO3)</td>\n",
       "      <td>0.016617</td>\n",
       "      <td>0.037157</td>\n",
       "      <td>24099.838701</td>\n",
       "      <td>6.256829e+07</td>\n",
       "      <td>Earth</td>\n",
       "      <td>False</td>\n",
       "      <td>26.02</td>\n",
       "      <td>False</td>\n",
       "      <td>0.026887</td>\n",
       "    </tr>\n",
       "  </tbody>\n",
       "</table>\n",
       "<p>2000 rows × 11 columns</p>\n",
       "</div>"
      ],
      "text/plain": [
       "            id               name  est_diameter_min  est_diameter_max  \\\n",
       "1      3634614        (2013 GT66)          0.024241          0.054205   \n",
       "2      3735686        (2015 XP54)          0.042126          0.094198   \n",
       "3      3789432          (2017 WE)          0.012149          0.027167   \n",
       "4      3705040        (2015 BA93)          0.152952          0.342011   \n",
       "5      3719243          (2015 KE)          0.015295          0.034201   \n",
       "...        ...                ...               ...               ...   \n",
       "1996   3605005        (2012 KE25)          0.461907          1.032856   \n",
       "1997   2447755  447755 (2007 JX2)          0.305179          0.682402   \n",
       "1998   3555411          (2011 BA)          0.258556          0.578149   \n",
       "1999   3743123       (2016 CA138)          0.058419          0.130629   \n",
       "2000  54144293         (2021 JO3)          0.016617          0.037157   \n",
       "\n",
       "      relative_velocity  miss_distance orbiting_body  sentry_object  \\\n",
       "1          43303.999094   4.814117e+07         Earth          False   \n",
       "2          38507.507463   4.817816e+07         Earth          False   \n",
       "3          68353.407418   2.339618e+07         Earth          False   \n",
       "4          47963.657691   6.245205e+07         Earth          False   \n",
       "5          32837.830469   3.012441e+07         Earth          False   \n",
       "...                 ...            ...           ...            ...   \n",
       "1996      110957.401365   4.030347e+07         Earth          False   \n",
       "1997       36078.517329   2.460992e+07         Earth          False   \n",
       "1998       65033.351424   2.998363e+07         Earth          False   \n",
       "1999       68844.278062   6.096411e+07         Earth          False   \n",
       "2000       24099.838701   6.256829e+07         Earth          False   \n",
       "\n",
       "      absolute_magnitude  hazardous  avg_est_diameter  \n",
       "1                  25.20      False          0.039223  \n",
       "2                  24.00      False          0.068162  \n",
       "3                  26.70      False          0.019658  \n",
       "4                  21.20      False          0.247481  \n",
       "5                  26.20      False          0.024748  \n",
       "...                  ...        ...               ...  \n",
       "1996               18.80      False          0.747382  \n",
       "1997               19.70       True          0.493790  \n",
       "1998               20.06      False          0.418353  \n",
       "1999               23.29      False          0.094524  \n",
       "2000               26.02      False          0.026887  \n",
       "\n",
       "[2000 rows x 11 columns]"
      ]
     },
     "execution_count": 4,
     "metadata": {},
     "output_type": "execute_result"
    }
   ],
   "source": [
    "new_df = df.sample(n=2000, random_state=1150)\n",
    "# randomly select 2000 data from the sample\n",
    "new_df.index = np.arange(1, len(new_df)+1)\n",
    "# add a column to get the average of the diameter\n",
    "new_df['avg_est_diameter'] = (new_df['est_diameter_min'] + new_df['est_diameter_max'])/2\n",
    "new_df"
   ]
  },
  {
   "cell_type": "markdown",
   "id": "94f68a36",
   "metadata": {},
   "source": [
    "### Split the dataset into train and test "
   ]
  },
  {
   "cell_type": "code",
   "execution_count": 112,
   "id": "adea2f1c",
   "metadata": {},
   "outputs": [
    {
     "name": "stdout",
     "output_type": "stream",
     "text": [
      "The length of x_train is 1600\n",
      "The length of x_test is 400\n",
      "The length of y_train is 1600\n",
      "The length of y_test is 400\n"
     ]
    }
   ],
   "source": [
    "from sklearn.model_selection import train_test_split\n",
    "new_lst = new_df[['avg_est_diameter','relative_velocity','absolute_magnitude']]\n",
    "result = new_df['hazardous']\n",
    "\n",
    "# Create an empty list\n",
    "row_list =[]\n",
    "\n",
    "# Iterate over each row\n",
    "for index, rows in new_df.iterrows():\n",
    "    \n",
    "    # Create list for the current row\n",
    "    cur_list =[rows.avg_est_diameter, rows.relative_velocity, rows.miss_distance, rows.absolute_magnitude]\n",
    "\n",
    "    # append the list to the final list\n",
    "    row_list.append(cur_list)\n",
    "\n",
    "result = np.where(result==False, 0, 1)\n",
    "\n",
    "x_train, x_test, y_train, y_test = train_test_split(row_list, result,\n",
    "                                                    test_size=0.2, random_state=0)\n",
    "print(\"The length of x_train is\", len(x_train))\n",
    "print(\"The length of x_test is\", len(x_test))\n",
    "print(\"The length of y_train is\", len(y_train))\n",
    "print(\"The length of y_test is\", len(y_test))"
   ]
  },
  {
   "cell_type": "markdown",
   "id": "654294fe",
   "metadata": {},
   "source": [
    "### Calculate the correlation between single explanatory variable and response variable"
   ]
  },
  {
   "cell_type": "code",
   "execution_count": 113,
   "id": "cda5814e",
   "metadata": {},
   "outputs": [],
   "source": [
    "def compute_correlation(arr1, arr2):\n",
    "    x = np.array(arr1)\n",
    "    y = np.array(arr2)\n",
    "    n = x.size\n",
    "    sd_x = x.std()\n",
    "    sd_y = y.std()\n",
    "    cov_xy = sum(x*y)/n - (sum(x)/n)*(sum(y)/n)\n",
    "    corr_coef = cov_xy/sd_x/sd_y\n",
    "    return corr_coef"
   ]
  },
  {
   "cell_type": "code",
   "execution_count": 114,
   "id": "7a173b7a",
   "metadata": {},
   "outputs": [
    {
     "name": "stdout",
     "output_type": "stream",
     "text": [
      "The correlation coefficient of average_diameter and result is 0.17369488038196734\n",
      "The correlation coefficient of relative_velocity and result is 0.21299615998162458\n",
      "The correlation coefficient of absolute_magnitude and result is -0.349515078444055\n",
      "The correlation coefficient of absolute_magnitude and result is 0.04447931954611427\n"
     ]
    }
   ],
   "source": [
    "# To test the correlation of the data and hazardous result\n",
    "# imput: two 1-D numpy arrays or pandas series with the same length.\n",
    "\n",
    "abs_magi = new_df['absolute_magnitude']\n",
    "avg_diam = new_df['avg_est_diameter']\n",
    "rel_velo = new_df['relative_velocity']\n",
    "mis_dist = new_df['miss_distance']\n",
    "\n",
    "# Correlation Cefficients between the result and every single explanatory variable\n",
    "\n",
    "r_velo = compute_correlation(rel_velo, result)\n",
    "r_magi = compute_correlation(abs_magi, result)\n",
    "r_diam = compute_correlation(avg_diam, result)\n",
    "r_miss = compute_correlation(mis_dist, result)\n",
    "print(f'The correlation coefficient of average_diameter and result is {r_diam}')\n",
    "print(f'The correlation coefficient of relative_velocity and result is {r_velo}')\n",
    "print(f'The correlation coefficient of absolute_magnitude and result is {r_magi}')\n",
    "print(f'The correlation coefficient of absolute_magnitude and result is {r_miss}')\n",
    "\n"
   ]
  },
  {
   "cell_type": "markdown",
   "id": "e6fbf30d",
   "metadata": {},
   "source": [
    "### Histograms for three selected variables"
   ]
  },
  {
   "cell_type": "code",
   "execution_count": 115,
   "id": "1f4e5074",
   "metadata": {},
   "outputs": [
    {
     "data": {
      "text/plain": [
       "(0.0, 1.0)"
      ]
     },
     "execution_count": 115,
     "metadata": {},
     "output_type": "execute_result"
    },
    {
     "data": {
      "image/png": "[encoded data removed]",
      "text/plain": [
       "<Figure size 432x288 with 1 Axes>"
      ]
     },
     "metadata": {
      "needs_background": "light"
     },
     "output_type": "display_data"
    }
   ],
   "source": [
    "plt.hist(new_df['avg_est_diameter'],bins=300)\n",
    "plt.xlim(0,1)"
   ]
  },
  {
   "cell_type": "code",
   "execution_count": 116,
   "id": "9388af68",
   "metadata": {},
   "outputs": [
    {
     "data": {
      "text/plain": [
       "(array([ 10.,  18.,  84., 129., 148., 194., 174., 142., 140., 160., 141.,\n",
       "        111.,  91., 116.,  59.,  67.,  46.,  43.,  34.,  13.,  25.,  10.,\n",
       "         14.,  10.,   6.,   6.,   3.,   3.,   1.,   2.]),\n",
       " array([   964.04807163,   6006.75486891,  11049.46166619,  16092.16846347,\n",
       "         21134.87526074,  26177.58205802,  31220.2888553 ,  36262.99565257,\n",
       "         41305.70244985,  46348.40924713,  51391.1160444 ,  56433.82284168,\n",
       "         61476.52963896,  66519.23643624,  71561.94323351,  76604.65003079,\n",
       "         81647.35682807,  86690.06362534,  91732.77042262,  96775.4772199 ,\n",
       "        101818.18401717, 106860.89081445, 111903.59761173, 116946.30440901,\n",
       "        121989.01120628, 127031.71800356, 132074.42480084, 137117.13159811,\n",
       "        142159.83839539, 147202.54519267, 152245.25198994]),\n",
       " <BarContainer object of 30 artists>)"
      ]
     },
     "execution_count": 116,
     "metadata": {},
     "output_type": "execute_result"
    },
    {
     "data": {
      "image/png": "[encoded data removed]",
      "text/plain": [
       "<Figure size 432x288 with 1 Axes>"
      ]
     },
     "metadata": {
      "needs_background": "light"
     },
     "output_type": "display_data"
    }
   ],
   "source": [
    "plt.hist(new_df['relative_velocity'],bins=30)"
   ]
  },
  {
   "cell_type": "code",
   "execution_count": 117,
   "id": "bc7871c6",
   "metadata": {},
   "outputs": [
    {
     "data": {
      "text/plain": [
       "(array([111.,  79.,  70.,  57.,  65.,  60.,  53.,  50.,  62.,  67.,  60.,\n",
       "         52.,  74.,  64.,  62.,  78.,  60.,  73.,  67.,  58.,  72.,  74.,\n",
       "         65.,  63.,  77.,  71.,  69.,  62.,  71.,  54.]),\n",
       " array([1.36720037e+04, 2.50530936e+06, 4.99694672e+06, 7.48858408e+06,\n",
       "        9.98022144e+06, 1.24718588e+07, 1.49634962e+07, 1.74551335e+07,\n",
       "        1.99467709e+07, 2.24384082e+07, 2.49300456e+07, 2.74216830e+07,\n",
       "        2.99133203e+07, 3.24049577e+07, 3.48965950e+07, 3.73882324e+07,\n",
       "        3.98798698e+07, 4.23715071e+07, 4.48631445e+07, 4.73547818e+07,\n",
       "        4.98464192e+07, 5.23380566e+07, 5.48296939e+07, 5.73213313e+07,\n",
       "        5.98129686e+07, 6.23046060e+07, 6.47962434e+07, 6.72878807e+07,\n",
       "        6.97795181e+07, 7.22711554e+07, 7.47627928e+07]),\n",
       " <BarContainer object of 30 artists>)"
      ]
     },
     "execution_count": 117,
     "metadata": {},
     "output_type": "execute_result"
    },
    {
     "data": {
      "image/png": "[encoded data removed]",
      "text/plain": [
       "<Figure size 432x288 with 1 Axes>"
      ]
     },
     "metadata": {
      "needs_background": "light"
     },
     "output_type": "display_data"
    }
   ],
   "source": [
    "plt.hist(new_df['miss_distance'],bins=30)"
   ]
  },
  {
   "cell_type": "code",
   "execution_count": 118,
   "id": "f05fa86b",
   "metadata": {},
   "outputs": [
    {
     "data": {
      "text/plain": [
       "(array([  1.,   4.,   4.,   7.,   8.,  13.,  27.,  44.,  58., 106., 114.,\n",
       "        127., 124., 128., 118., 159., 156., 185., 155., 163., 100.,  77.,\n",
       "         50.,  37.,  19.,  13.,   0.,   1.,   1.,   1.]),\n",
       " array([13.84 , 14.477, 15.114, 15.751, 16.388, 17.025, 17.662, 18.299,\n",
       "        18.936, 19.573, 20.21 , 20.847, 21.484, 22.121, 22.758, 23.395,\n",
       "        24.032, 24.669, 25.306, 25.943, 26.58 , 27.217, 27.854, 28.491,\n",
       "        29.128, 29.765, 30.402, 31.039, 31.676, 32.313, 32.95 ]),\n",
       " <BarContainer object of 30 artists>)"
      ]
     },
     "execution_count": 118,
     "metadata": {},
     "output_type": "execute_result"
    },
    {
     "data": {
      "image/png": "[encoded data removed]",
      "text/plain": [
       "<Figure size 432x288 with 1 Axes>"
      ]
     },
     "metadata": {
      "needs_background": "light"
     },
     "output_type": "display_data"
    }
   ],
   "source": [
    "plt.hist(new_df['absolute_magnitude'],bins=30)"
   ]
  },
  {
   "cell_type": "markdown",
   "id": "b1468830",
   "metadata": {},
   "source": [
    "### Calculate the correlation between selected explanatory variables"
   ]
  },
  {
   "cell_type": "code",
   "execution_count": 119,
   "id": "865e3fee",
   "metadata": {},
   "outputs": [
    {
     "name": "stdout",
     "output_type": "stream",
     "text": [
      "The correlation coefficient of average_diameter and relative_velocity is 0.2728648417518769\n",
      "The correlation coefficient of relative_velocity and absolute magnitude is -0.36314047444031233\n",
      "The correlation coefficient of absolute magnitude and average_diameter is -0.6618399141526315\n"
     ]
    }
   ],
   "source": [
    "\n",
    "\n",
    "\n",
    "r_velo_diam = compute_correlation(avg_diam, rel_velo)\n",
    "r_magi_velo = compute_correlation(rel_velo, abs_magi)\n",
    "r_diam_magi = compute_correlation(abs_magi, avg_diam)\n",
    "print(f'The correlation coefficient of average_diameter and relative_velocity is {r_velo_diam}')\n",
    "print(f'The correlation coefficient of relative_velocity and absolute magnitude is {r_magi_velo}')\n",
    "print(f'The correlation coefficient of absolute magnitude and average_diameter is {r_diam_magi}')\n",
    "# We found that they were loosely correlated, so we could take all these 3 data as explanatory variables."
   ]
  },
  {
   "cell_type": "code",
   "execution_count": 120,
   "id": "c527cb4c",
   "metadata": {},
   "outputs": [
    {
     "data": {
      "text/plain": [
       "<AxesSubplot:>"
      ]
     },
     "execution_count": 120,
     "metadata": {},
     "output_type": "execute_result"
    },
    {
     "data": {
      "image/png": "[encoded data removed]",
      "text/plain": [
       "<Figure size 720x576 with 2 Axes>"
      ]
     },
     "metadata": {
      "needs_background": "light"
     },
     "output_type": "display_data"
    }
   ],
   "source": [
    "# plot the correlation map\n",
    "import seaborn as sns\n",
    "plt.figure(figsize=(10,8))\n",
    "sns.heatmap(new_lst.corr(),annot=True)"
   ]
  },
  {
   "cell_type": "markdown",
   "id": "3d1786f9",
   "metadata": {},
   "source": [
    "### Implement models"
   ]
  },
  {
   "cell_type": "markdown",
   "id": "32ed21de",
   "metadata": {},
   "source": [
    "#### Model 1: Logistic Regression"
   ]
  },
  {
   "cell_type": "code",
   "execution_count": 121,
   "id": "f0c5553a",
   "metadata": {},
   "outputs": [
    {
     "name": "stdout",
     "output_type": "stream",
     "text": [
      "0.9175\n"
     ]
    }
   ],
   "source": [
    "from sklearn.linear_model import LogisticRegression\n",
    "from sklearn.metrics import accuracy_score\n",
    "from sklearn.metrics import classification_report\n",
    "\n",
    "lg_model = LogisticRegression(fit_intercept=True)\n",
    "lg_model.fit(x_train,y_train)\n",
    "lg_y_pred = lg_model.predict(x_test)\n",
    "lr_acc = accuracy_score(y_test, lg_y_pred)\n",
    "print(lr_acc)"
   ]
  },
  {
   "cell_type": "markdown",
   "id": "1399a316",
   "metadata": {},
   "source": [
    "#### Model 2: SVM"
   ]
  },
  {
   "cell_type": "code",
   "execution_count": 122,
   "id": "b4f5d550",
   "metadata": {},
   "outputs": [
    {
     "name": "stdout",
     "output_type": "stream",
     "text": [
      "Accuracy Score: 0.9175\n"
     ]
    }
   ],
   "source": [
    "from sklearn import svm\n",
    "from sklearn.metrics import accuracy_score\n",
    "\n",
    "svm_model = svm.SVC()\n",
    "svm_model.fit(x_train, y_train)\n",
    "\n",
    "svm_y_pred = svm_model.predict(x_test)\n",
    "svm_acc = accuracy_score(y_test, svm_y_pred)\n",
    "\n",
    "print(\"Accuracy Score:\", svm_acc)"
   ]
  },
  {
   "cell_type": "markdown",
   "id": "98cfb6f6",
   "metadata": {},
   "source": [
    "#### Model 3: KNN"
   ]
  },
  {
   "cell_type": "code",
   "execution_count": 123,
   "id": "e1bc5ce7",
   "metadata": {},
   "outputs": [
    {
     "name": "stdout",
     "output_type": "stream",
     "text": [
      "k =  1 Acc= 0.86\n",
      "k =  2 Acc= 0.9125\n",
      "k =  3 Acc= 0.9\n",
      "k =  4 Acc= 0.91\n",
      "k =  5 Acc= 0.91\n",
      "k =  6 Acc= 0.915\n",
      "k =  7 Acc= 0.9175\n",
      "k =  8 Acc= 0.9175\n",
      "k =  9 Acc= 0.9175\n",
      "k =  10 Acc= 0.9175\n",
      "k =  11 Acc= 0.9175\n",
      "k =  12 Acc= 0.9175\n",
      "k =  13 Acc= 0.9175\n",
      "k =  14 Acc= 0.9175\n",
      "k =  15 Acc= 0.9175\n"
     ]
    },
    {
     "data": {
      "image/png": "[encoded data removed]",
      "text/plain": [
       "<Figure size 432x288 with 1 Axes>"
      ]
     },
     "metadata": {
      "needs_background": "light"
     },
     "output_type": "display_data"
    }
   ],
   "source": [
    "from sklearn.neighbors import KNeighborsClassifier\n",
    "def knn(k, X_train, X_test, ytrain, ytest):\n",
    "    neigh = KNeighborsClassifier(n_neighbors=k)\n",
    "    neigh.fit(X_train, ytrain)\n",
    "    predictions= neigh.predict(X_test)\n",
    "    correct = np.sum(predictions == ytest)\n",
    "    return correct/len(predictions)\n",
    "\n",
    "poss_k = list(range(1,15+1))\n",
    "acc_k = np.zeros(len(poss_k))\n",
    "\n",
    "acc_indx = 0\n",
    "\n",
    "for k in poss_k:\n",
    "    acc_k[acc_indx] = knn(k, x_train, x_test, y_train, y_test)\n",
    "    print(\"k = \", k , \"Acc=\", acc_k[acc_indx])\n",
    "    acc_indx = acc_indx + 1\n",
    "plt.plot(poss_k,acc_k,'g-*')\n",
    "plt.xlabel('k')\n",
    "plt.ylabel('Accuracy')\n",
    "plt.title('Accuracy on Test Set for Varied k')\n",
    "plt.grid('on')\n",
    "plt.show()"
   ]
  },
  {
   "cell_type": "code",
   "execution_count": 124,
   "id": "57096c93",
   "metadata": {},
   "outputs": [],
   "source": [
    "knn_acc = 0.9175"
   ]
  },
  {
   "cell_type": "markdown",
   "id": "69af8588",
   "metadata": {},
   "source": [
    "#### Model 4: Decision Tree"
   ]
  },
  {
   "cell_type": "code",
   "execution_count": 132,
   "id": "14080517",
   "metadata": {},
   "outputs": [
    {
     "name": "stdout",
     "output_type": "stream",
     "text": [
      "0.8925\n"
     ]
    }
   ],
   "source": [
    "from sklearn.tree import DecisionTreeClassifier\n",
    "from sklearn.metrics import accuracy_score\n",
    "\n",
    "dt_model = DecisionTreeClassifier()\n",
    "dt_model.fit(x_train, y_train)\n",
    "y_dt = dt_model.predict(x_test)\n",
    "dt_acc = accuracy_score(y_test, y_dt)\n",
    "print(dt_acc)"
   ]
  },
  {
   "cell_type": "markdown",
   "id": "6150c200",
   "metadata": {},
   "source": [
    "#### Model 5: Rondom Forest"
   ]
  },
  {
   "cell_type": "code",
   "execution_count": 126,
   "id": "225ca695",
   "metadata": {},
   "outputs": [
    {
     "name": "stdout",
     "output_type": "stream",
     "text": [
      "0.925\n"
     ]
    }
   ],
   "source": [
    "from sklearn.ensemble import RandomForestClassifier\n",
    "rf = RandomForestClassifier()\n",
    "rf.fit(x_train, y_train)\n",
    "rf_pred = rf.predict(x_test)\n",
    "rf_acc = round(accuracy_score(rf_pred, y_test), 4)\n",
    "print(rf_acc)"
   ]
  },
  {
   "cell_type": "markdown",
   "id": "d4dc739f",
   "metadata": {},
   "source": [
    "#### Model 6: Ada Boost"
   ]
  },
  {
   "cell_type": "code",
   "execution_count": 127,
   "id": "39ea96b1",
   "metadata": {},
   "outputs": [],
   "source": [
    "# Load libraries\n",
    "from sklearn.ensemble import AdaBoostClassifier\n",
    "from sklearn import datasets\n",
    "# Import train_test_split function\n",
    "from sklearn.model_selection import train_test_split\n",
    "#Import scikit-learn metrics module for accuracy calculation\n",
    "from sklearn import metrics"
   ]
  },
  {
   "cell_type": "code",
   "execution_count": 128,
   "id": "c410b92f",
   "metadata": {},
   "outputs": [
    {
     "name": "stdout",
     "output_type": "stream",
     "text": [
      "Accuracy: 0.93\n",
      "              precision    recall  f1-score   support\n",
      "\n",
      "           0       0.93      1.00      0.96       367\n",
      "           1       0.86      0.18      0.30        33\n",
      "\n",
      "    accuracy                           0.93       400\n",
      "   macro avg       0.89      0.59      0.63       400\n",
      "weighted avg       0.93      0.93      0.91       400\n",
      "\n"
     ]
    }
   ],
   "source": [
    "# Create adaboost classifer object\n",
    "abc = AdaBoostClassifier(n_estimators=50,\n",
    "                         learning_rate=1)\n",
    "# Train Adaboost Classifer\n",
    "ab_model = abc.fit(x_train, y_train)\n",
    "\n",
    "#Predict the response for test dataset\n",
    "ab_y_pred = ab_model.predict(x_test)\n",
    "ab_acc = metrics.accuracy_score(y_test, ab_y_pred)\n",
    "\n",
    "print(\"Accuracy:\",ab_acc)\n",
    "print(classification_report(y_test,ab_y_pred))"
   ]
  },
  {
   "cell_type": "markdown",
   "id": "bdc4bfa4",
   "metadata": {},
   "source": [
    "### Summarize accuracy score of models into a dataframe"
   ]
  },
  {
   "cell_type": "code",
   "execution_count": 129,
   "id": "33e2ddf9",
   "metadata": {},
   "outputs": [
    {
     "data": {
      "text/html": [
       "<div>\n",
       "<style scoped>\n",
       "    .dataframe tbody tr th:only-of-type {\n",
       "        vertical-align: middle;\n",
       "    }\n",
       "\n",
       "    .dataframe tbody tr th {\n",
       "        vertical-align: top;\n",
       "    }\n",
       "\n",
       "    .dataframe thead th {\n",
       "        text-align: right;\n",
       "    }\n",
       "</style>\n",
       "<table border=\"1\" class=\"dataframe\">\n",
       "  <thead>\n",
       "    <tr style=\"text-align: right;\">\n",
       "      <th></th>\n",
       "      <th>Model</th>\n",
       "      <th>Score</th>\n",
       "    </tr>\n",
       "  </thead>\n",
       "  <tbody>\n",
       "    <tr>\n",
       "      <th>1</th>\n",
       "      <td>Ada Boost</td>\n",
       "      <td>0.9300</td>\n",
       "    </tr>\n",
       "    <tr>\n",
       "      <th>0</th>\n",
       "      <td>Random Forest</td>\n",
       "      <td>0.9250</td>\n",
       "    </tr>\n",
       "    <tr>\n",
       "      <th>2</th>\n",
       "      <td>Logistic Regression</td>\n",
       "      <td>0.9175</td>\n",
       "    </tr>\n",
       "    <tr>\n",
       "      <th>3</th>\n",
       "      <td>SVM</td>\n",
       "      <td>0.9175</td>\n",
       "    </tr>\n",
       "    <tr>\n",
       "      <th>5</th>\n",
       "      <td>KNN</td>\n",
       "      <td>0.9175</td>\n",
       "    </tr>\n",
       "    <tr>\n",
       "      <th>4</th>\n",
       "      <td>Decision Tree</td>\n",
       "      <td>0.9000</td>\n",
       "    </tr>\n",
       "  </tbody>\n",
       "</table>\n",
       "</div>"
      ],
      "text/plain": [
       "                 Model   Score\n",
       "1            Ada Boost  0.9300\n",
       "0        Random Forest  0.9250\n",
       "2  Logistic Regression  0.9175\n",
       "3                  SVM  0.9175\n",
       "5                  KNN  0.9175\n",
       "4        Decision Tree  0.9000"
      ]
     },
     "execution_count": 129,
     "metadata": {},
     "output_type": "execute_result"
    }
   ],
   "source": [
    "acc_df = pd.DataFrame({\n",
    "  'Model' : ['Random Forest','Ada Boost','Logistic Regression','SVM','Decision Tree','KNN'],  \n",
    "  'Score' : [rf_acc, ab_acc, lr_acc, svm_acc, dt_acc, knn_acc] })\n",
    "\n",
    "acc_df.sort_values(by='Score', ascending=False)"
   ]
  },
  {
   "cell_type": "markdown",
   "id": "2f157e7f",
   "metadata": {},
   "source": [
    "### Pie Charts of actual and predicted results"
   ]
  },
  {
   "cell_type": "code",
   "execution_count": 130,
   "id": "6893a882",
   "metadata": {},
   "outputs": [
    {
     "data": {
      "image/png": "[encoded data removed]",
      "text/plain": [
       "<Figure size 432x288 with 1 Axes>"
      ]
     },
     "metadata": {},
     "output_type": "display_data"
    }
   ],
   "source": [
    "# Pie Chart of actual recult\n",
    "result_pie = np.array(pd.Series(result).value_counts())\n",
    "mylabels = [\"Safe\", \"Hazardous\"]\n",
    "plt.pie(result_pie,labels = mylabels,autopct='%1.1f%%')\n",
    "plt.title(\"Pie Chart of Actual results\")\n",
    "plt.show()"
   ]
  },
  {
   "cell_type": "code",
   "execution_count": 131,
   "id": "4f843a39",
   "metadata": {},
   "outputs": [
    {
     "data": {
      "image/png": "[encoded data removed]",
      "text/plain": [
       "<Figure size 432x288 with 1 Axes>"
      ]
     },
     "metadata": {},
     "output_type": "display_data"
    }
   ],
   "source": [
    "# Pie Chart of prediction model of highest accuracy\n",
    "ada_pie = np.array(pd.Series(ab_y_pred).value_counts())\n",
    "mylabels = [\"Safe\", \"Hazardous\"]\n",
    "plt.pie(ada_pie,labels = mylabels,autopct='%1.1f%%')\n",
    "plt.title(\"Pie Chart of Ada boost predictions\")\n",
    "plt.show()"
   ]
  },
  {
   "cell_type": "markdown",
   "id": "55994703",
   "metadata": {},
   "source": [
    "## 3. Accuracy Improvement"
   ]
  },
  {
   "cell_type": "markdown",
   "id": "ea383619",
   "metadata": {},
   "source": [
    "##### Improvement of SVM"
   ]
  },
  {
   "cell_type": "code",
   "execution_count": 25,
   "id": "bd6085d0",
   "metadata": {},
   "outputs": [
    {
     "name": "stdout",
     "output_type": "stream",
     "text": [
      "The accuracy of polynomial Kernel is: 0.9175\n",
      "The accuracy of radial-basis function Kernel is: 0.9175\n"
     ]
    }
   ],
   "source": [
    "# To improve the performance of SVM, we adopted the kernal trick.\n",
    "from sklearn import svm\n",
    "from sklearn.metrics import classification_report\n",
    "\n",
    "\n",
    "poly_svc = svm.SVC(kernel = 'poly')\n",
    "rbf_svc = svm.SVC(kernel = 'rbf')\n",
    "\n",
    "poly_svc.fit(x_train, y_train)\n",
    "rbf_svc.fit(x_train, y_train)\n",
    "\n",
    "poly_pred = poly_svc.predict(x_test)\n",
    "rbf_pred = rbf_svc.predict(x_test)\n",
    "\n",
    "print(f'The accuracy of polynomial Kernel is: {accuracy_score(poly_pred, y_test)}')\n",
    "print(f'The accuracy of radial-basis function Kernel is: {accuracy_score(rbf_pred, y_test)}')\n",
    "# print(f'The classification report of linear Kernel:\\n {classification_report(y_test, poly_pred)}')"
   ]
  },
  {
   "cell_type": "markdown",
   "id": "2cfbbba5",
   "metadata": {},
   "source": [
    "##### Improvement of Decision Tree"
   ]
  },
  {
   "cell_type": "code",
   "execution_count": 59,
   "id": "304e5b55",
   "metadata": {},
   "outputs": [
    {
     "name": "stdout",
     "output_type": "stream",
     "text": [
      "Testing 0.0 min impurity decrease:\n",
      "    Average accuracy is 0.89\n",
      "Testing 0.005 min impurity decrease:\n",
      "    Average accuracy is 0.93\n",
      "Testing 0.01 min impurity decrease:\n",
      "    Average accuracy is 0.9175\n",
      "Testing 0.015 min impurity decrease:\n",
      "    Average accuracy is 0.9175\n",
      "Testing 0.02 min impurity decrease:\n",
      "    Average accuracy is 0.9175\n",
      "Testing 0.025 min impurity decrease:\n",
      "    Average accuracy is 0.9175\n",
      "Best min impurity decrease is 0.005.\n"
     ]
    }
   ],
   "source": [
    "# To improve the performance of Decision Tree Classification, \n",
    "min_impu_test = np.linspace(0, 0.025, 6)\n",
    "accu_list = []\n",
    "for pos_min_impurity in min_impu_test:\n",
    "    classifier = DecisionTreeClassifier(criterion='gini', min_impurity_decrease = pos_min_impurity)\n",
    "    classifier.fit(x_train, y_train)\n",
    "    y_pred = classifier.predict(x_test)\n",
    "    accu = accuracy_score(y_pred, y_test)\n",
    "    accu_list.append(accu)\n",
    "    print(f'Testing {pos_min_impurity} min impurity decrease:\\n    Average accuracy is {accu}')\n",
    "comp_accu = pd.Series(accu_list, index = min_impu_test)\n",
    "best_min_impu_decr = comp_accu.idxmax()\n",
    "print(f'Best min impurity decrease is {best_min_impu_decr}.')  "
   ]
  },
  {
   "cell_type": "markdown",
   "id": "122c842f",
   "metadata": {},
   "source": [
    "## 4. Result and Conclusion"
   ]
  },
  {
   "cell_type": "markdown",
   "id": "63c89e5f",
   "metadata": {},
   "source": [
    "Result: Based on our observation of different clustering models, we found that the Ada Boost model has the highest accuracy score of 0.93. Random Forest ranks the second, with an accuracy score of 0.925. Among all the models, Decision Tree has the lowest accuracy score, which is only 0.8875. We further improved the SVM and Decision Tree models, and the accuracy scores improved to 0.9175 and 0.93 separately."
   ]
  },
  {
   "cell_type": "markdown",
   "id": "a2e06176",
   "metadata": {},
   "source": [
    "Conclusion: Our prediction models are considered successful since we have a highest accuracy score of 0.93. Thus, we are able to predict whether a particular asteroid that is classified as Nearest Earth Object(NEO) may or may not be hazardous using our models. What's more, according to our correlation calculation, a single explanatory variable does not have a strong correlation with the final result (whether the NEO will be hazardous). After we combined several different features together (in this project we choose average diamater, relatively velocity, and absolute magnitude), we found out that they are jointly significant to the final result."
   ]
  }
 ],
 "metadata": {
  "kernelspec": {
   "display_name": "Python 3 (ipykernel)",
   "language": "python",
   "name": "python3"
  },
  "language_info": {
   "codemirror_mode": {
    "name": "ipython",
    "version": 3
   },
   "file_extension": ".py",
   "mimetype": "text/x-python",
   "name": "python",
   "nbconvert_exporter": "python",
   "pygments_lexer": "ipython3",
   "version": "3.9.7"
  }
 },
 "nbformat": 4,
 "nbformat_minor": 5
}
